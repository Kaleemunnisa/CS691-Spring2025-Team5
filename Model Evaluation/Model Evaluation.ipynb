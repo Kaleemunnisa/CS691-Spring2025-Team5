{
  "nbformat": 4,
  "nbformat_minor": 0,
  "metadata": {
    "colab": {
      "provenance": []
    },
    "kernelspec": {
      "name": "python3",
      "display_name": "Python 3"
    },
    "language_info": {
      "name": "python"
    }
  },
  "cells": [
    {
      "cell_type": "code",
      "execution_count": null,
      "metadata": {
        "colab": {
          "base_uri": "https://localhost:8080/"
        },
        "id": "Tq_dOI9MNgPG",
        "outputId": "0bbed644-4f59-44cd-cc8c-4af2efdfdb1b"
      },
      "outputs": [
        {
          "output_type": "stream",
          "name": "stderr",
          "text": [
            "<ipython-input-1-18a61699fd36>:15: SettingWithCopyWarning: \n",
            "A value is trying to be set on a copy of a slice from a DataFrame.\n",
            "Try using .loc[row_indexer,col_indexer] = value instead\n",
            "\n",
            "See the caveats in the documentation: https://pandas.pydata.org/pandas-docs/stable/user_guide/indexing.html#returning-a-view-versus-a-copy\n",
            "  filtered_data[\"combined_text\"] = filtered_data[\"Mail Subject\"].fillna(\" \") + \" \" + filtered_data[\"Email Content\"].fillna(\" \")\n"
          ]
        },
        {
          "output_type": "stream",
          "name": "stdout",
          "text": [
            "Model Accuracy: 0.7647\n",
            "Detailed Classification Report:\n",
            "                             precision    recall  f1-score   support\n",
            "\n",
            "                  Business       0.57      1.00      0.73         4\n",
            "                   Finance       0.00      0.00      0.00         1\n",
            "        Order Confirmation       0.00      0.00      0.00         1\n",
            "Order Confirmation/Updates       1.00      1.00      1.00         2\n",
            "                  Personal       1.00      1.00      1.00         3\n",
            "               Promotional       0.75      0.75      0.75         4\n",
            "    Transaction & Security       1.00      0.50      0.67         2\n",
            "\n",
            "                  accuracy                           0.76        17\n",
            "                 macro avg       0.62      0.61      0.59        17\n",
            "              weighted avg       0.72      0.76      0.72        17\n",
            "\n"
          ]
        },
        {
          "output_type": "stream",
          "name": "stderr",
          "text": [
            "/usr/local/lib/python3.11/dist-packages/sklearn/metrics/_classification.py:1565: UndefinedMetricWarning: Precision is ill-defined and being set to 0.0 in labels with no predicted samples. Use `zero_division` parameter to control this behavior.\n",
            "  _warn_prf(average, modifier, f\"{metric.capitalize()} is\", len(result))\n",
            "/usr/local/lib/python3.11/dist-packages/sklearn/metrics/_classification.py:1565: UndefinedMetricWarning: Precision is ill-defined and being set to 0.0 in labels with no predicted samples. Use `zero_division` parameter to control this behavior.\n",
            "  _warn_prf(average, modifier, f\"{metric.capitalize()} is\", len(result))\n",
            "/usr/local/lib/python3.11/dist-packages/sklearn/metrics/_classification.py:1565: UndefinedMetricWarning: Precision is ill-defined and being set to 0.0 in labels with no predicted samples. Use `zero_division` parameter to control this behavior.\n",
            "  _warn_prf(average, modifier, f\"{metric.capitalize()} is\", len(result))\n"
          ]
        }
      ],
      "source": [
        "import pandas as pd\n",
        "from sklearn.model_selection import train_test_split\n",
        "from sklearn.feature_extraction.text import TfidfVectorizer\n",
        "from sklearn.naive_bayes import MultinomialNB\n",
        "from sklearn.metrics import accuracy_score, classification_report\n",
        "\n",
        "# Load dataset\n",
        "dataset_path = \"/content/Cleaned Smart Email Dataset.csv\"  # Adjust path accordingly\n",
        "data = pd.read_csv(dataset_path)\n",
        "\n",
        "# Remove unclassified entries\n",
        "filtered_data = data[data[\"Category\"] != \"-\"]\n",
        "\n",
        "# Merge subject and email body\n",
        "filtered_data[\"combined_text\"] = filtered_data[\"Mail Subject\"].fillna(\" \") + \" \" + filtered_data[\"Email Content\"].fillna(\" \")\n",
        "\n",
        "# Remove infrequent categories\n",
        "category_freq = filtered_data[\"Category\"].value_counts()\n",
        "valid_labels = category_freq[category_freq > 1].index\n",
        "balanced_data = filtered_data[filtered_data[\"Category\"].isin(valid_labels)]\n",
        "\n",
        "# Define inputs (X) and target labels (y)\n",
        "X_features = balanced_data[\"combined_text\"]\n",
        "y_labels = balanced_data[\"Category\"]\n",
        "\n",
        "# Split dataset\n",
        "X_train, X_test, y_train, y_test = train_test_split(X_features, y_labels, test_size=0.2, random_state=42, stratify=y_labels)\n",
        "\n",
        "# Convert text data using TF-IDF\n",
        "tfidf_converter = TfidfVectorizer(stop_words=\"english\", max_features=4000)  # Reduced feature count\n",
        "X_train_transformed = tfidf_converter.fit_transform(X_train)\n",
        "X_test_transformed = tfidf_converter.transform(X_test)\n",
        "\n",
        "# Train Naive Bayes model\n",
        "nb_classifier = MultinomialNB()\n",
        "nb_classifier.fit(X_train_transformed, y_train)\n",
        "\n",
        "# Make predictions and evaluate model\n",
        "predictions = nb_classifier.predict(X_test_transformed)\n",
        "model_accuracy = accuracy_score(y_test, predictions)\n",
        "classification_summary = classification_report(y_test, predictions)\n",
        "\n",
        "print(f\"Model Accuracy: {model_accuracy:.4f}\")\n",
        "print(\"Detailed Classification Report:\\n\", classification_summary)\n"
      ]
    }
  ]
}