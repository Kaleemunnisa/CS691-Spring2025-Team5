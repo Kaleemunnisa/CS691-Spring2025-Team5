{
  "nbformat": 4,
  "nbformat_minor": 0,
  "metadata": {
    "colab": {
      "provenance": []
    },
    "kernelspec": {
      "name": "python3",
      "display_name": "Python 3"
    },
    "language_info": {
      "name": "python"
    }
  },
  "cells": [
    {
      "cell_type": "code",
      "execution_count": 15,
      "metadata": {
        "id": "u57rSqwz4PPC"
      },
      "outputs": [],
      "source": [
        "import pandas as pd"
      ]
    },
    {
      "cell_type": "code",
      "source": [
        "df = pd.read_excel('/content/Combined Email Dataset.xlsx')"
      ],
      "metadata": {
        "id": "17ksPTdp4XBh"
      },
      "execution_count": 16,
      "outputs": []
    },
    {
      "cell_type": "code",
      "source": [
        "df.head()"
      ],
      "metadata": {
        "colab": {
          "base_uri": "https://localhost:8080/",
          "height": 573
        },
        "id": "HA3qwyJi4uLa",
        "outputId": "66e712d6-693a-48a6-a8ac-f460def9004d"
      },
      "execution_count": 17,
      "outputs": [
        {
          "output_type": "execute_result",
          "data": {
            "text/plain": [
              "                              From Email  \\\n",
              "0  Google <no-reply@accounts.google.com>   \n",
              "1        Temu <email@news.temuemail.com>   \n",
              "2  CarGurus <cargurus@mail.cargurus.com>   \n",
              "3         Popeyes <offers@m.popeyes.com>   \n",
              "4  Starbucks <Starbucks@e.starbucks.com>   \n",
              "\n",
              "                                            To Email  \\\n",
              "0                        kuchipudirakesh20@gmail.com   \n",
              "1                        kuchipudirakesh20@gmail.com   \n",
              "2                        kuchipudirakesh20@gmail.com   \n",
              "3                        kuchipudirakesh20@gmail.com   \n",
              "4  \"kuchipudirakesh20@gmail.com\" <kuchipudirakesh...   \n",
              "\n",
              "                                    Mail Subject  \\\n",
              "0               Archive of Google data requested   \n",
              "1                    Please confirm your 𝐅𝐑𝐄𝐄𝐁𝐈𝐄   \n",
              "2  Don't miss this 2016 Toyota Corolla at $9,999   \n",
              "3                 🎊 Fat Tuesday = ALL DAY party!   \n",
              "4                         What’s in this spring?   \n",
              "\n",
              "                                       Email Content Category CC  \\\n",
              "0  [image: Google]\\nArchive of Google data reques...        -  -   \n",
              "1  ----------------------------------------------...        -  -   \n",
              "2  CarGurus Check out these listings near you ---...        -  -   \n",
              "3  All your faves for $2, $3, or $5, all day long...        -  -   \n",
              "4  Discover the menu\\n\\nView this email online.\\n...        -  -   \n",
              "\n",
              "    Last Received Date Action/Response/Arival Awaited Date Coupon Mail Sector  \\\n",
              "0  2025-05-03 00:00:00                                   -      -           -   \n",
              "1  2025-05-03 00:00:00                                   -      -           -   \n",
              "2  2025-05-03 00:00:00                                   -      -           -   \n",
              "3  2025-04-03 00:00:00                                   -      -           -   \n",
              "4  2025-04-03 00:00:00                                   -      -           -   \n",
              "\n",
              "  Organization  \n",
              "0            -  \n",
              "1            -  \n",
              "2            -  \n",
              "3            -  \n",
              "4            -  "
            ],
            "text/html": [
              "\n",
              "  <div id=\"df-60607f18-ccfc-47ea-8cc8-dbd020cc32eb\" class=\"colab-df-container\">\n",
              "    <div>\n",
              "<style scoped>\n",
              "    .dataframe tbody tr th:only-of-type {\n",
              "        vertical-align: middle;\n",
              "    }\n",
              "\n",
              "    .dataframe tbody tr th {\n",
              "        vertical-align: top;\n",
              "    }\n",
              "\n",
              "    .dataframe thead th {\n",
              "        text-align: right;\n",
              "    }\n",
              "</style>\n",
              "<table border=\"1\" class=\"dataframe\">\n",
              "  <thead>\n",
              "    <tr style=\"text-align: right;\">\n",
              "      <th></th>\n",
              "      <th>From Email</th>\n",
              "      <th>To Email</th>\n",
              "      <th>Mail Subject</th>\n",
              "      <th>Email Content</th>\n",
              "      <th>Category</th>\n",
              "      <th>CC</th>\n",
              "      <th>Last Received Date</th>\n",
              "      <th>Action/Response/Arival Awaited Date</th>\n",
              "      <th>Coupon</th>\n",
              "      <th>Mail Sector</th>\n",
              "      <th>Organization</th>\n",
              "    </tr>\n",
              "  </thead>\n",
              "  <tbody>\n",
              "    <tr>\n",
              "      <th>0</th>\n",
              "      <td>Google &lt;no-reply@accounts.google.com&gt;</td>\n",
              "      <td>kuchipudirakesh20@gmail.com</td>\n",
              "      <td>Archive of Google data requested</td>\n",
              "      <td>[image: Google]\\nArchive of Google data reques...</td>\n",
              "      <td>-</td>\n",
              "      <td>-</td>\n",
              "      <td>2025-05-03 00:00:00</td>\n",
              "      <td>-</td>\n",
              "      <td>-</td>\n",
              "      <td>-</td>\n",
              "      <td>-</td>\n",
              "    </tr>\n",
              "    <tr>\n",
              "      <th>1</th>\n",
              "      <td>Temu &lt;email@news.temuemail.com&gt;</td>\n",
              "      <td>kuchipudirakesh20@gmail.com</td>\n",
              "      <td>Please confirm your 𝐅𝐑𝐄𝐄𝐁𝐈𝐄</td>\n",
              "      <td>----------------------------------------------...</td>\n",
              "      <td>-</td>\n",
              "      <td>-</td>\n",
              "      <td>2025-05-03 00:00:00</td>\n",
              "      <td>-</td>\n",
              "      <td>-</td>\n",
              "      <td>-</td>\n",
              "      <td>-</td>\n",
              "    </tr>\n",
              "    <tr>\n",
              "      <th>2</th>\n",
              "      <td>CarGurus &lt;cargurus@mail.cargurus.com&gt;</td>\n",
              "      <td>kuchipudirakesh20@gmail.com</td>\n",
              "      <td>Don't miss this 2016 Toyota Corolla at $9,999</td>\n",
              "      <td>CarGurus Check out these listings near you ---...</td>\n",
              "      <td>-</td>\n",
              "      <td>-</td>\n",
              "      <td>2025-05-03 00:00:00</td>\n",
              "      <td>-</td>\n",
              "      <td>-</td>\n",
              "      <td>-</td>\n",
              "      <td>-</td>\n",
              "    </tr>\n",
              "    <tr>\n",
              "      <th>3</th>\n",
              "      <td>Popeyes &lt;offers@m.popeyes.com&gt;</td>\n",
              "      <td>kuchipudirakesh20@gmail.com</td>\n",
              "      <td>🎊 Fat Tuesday = ALL DAY party!</td>\n",
              "      <td>All your faves for $2, $3, or $5, all day long...</td>\n",
              "      <td>-</td>\n",
              "      <td>-</td>\n",
              "      <td>2025-04-03 00:00:00</td>\n",
              "      <td>-</td>\n",
              "      <td>-</td>\n",
              "      <td>-</td>\n",
              "      <td>-</td>\n",
              "    </tr>\n",
              "    <tr>\n",
              "      <th>4</th>\n",
              "      <td>Starbucks &lt;Starbucks@e.starbucks.com&gt;</td>\n",
              "      <td>\"kuchipudirakesh20@gmail.com\" &lt;kuchipudirakesh...</td>\n",
              "      <td>What’s in this spring?</td>\n",
              "      <td>Discover the menu\\n\\nView this email online.\\n...</td>\n",
              "      <td>-</td>\n",
              "      <td>-</td>\n",
              "      <td>2025-04-03 00:00:00</td>\n",
              "      <td>-</td>\n",
              "      <td>-</td>\n",
              "      <td>-</td>\n",
              "      <td>-</td>\n",
              "    </tr>\n",
              "  </tbody>\n",
              "</table>\n",
              "</div>\n",
              "    <div class=\"colab-df-buttons\">\n",
              "\n",
              "  <div class=\"colab-df-container\">\n",
              "    <button class=\"colab-df-convert\" onclick=\"convertToInteractive('df-60607f18-ccfc-47ea-8cc8-dbd020cc32eb')\"\n",
              "            title=\"Convert this dataframe to an interactive table.\"\n",
              "            style=\"display:none;\">\n",
              "\n",
              "  <svg xmlns=\"http://www.w3.org/2000/svg\" height=\"24px\" viewBox=\"0 -960 960 960\">\n",
              "    <path d=\"M120-120v-720h720v720H120Zm60-500h600v-160H180v160Zm220 220h160v-160H400v160Zm0 220h160v-160H400v160ZM180-400h160v-160H180v160Zm440 0h160v-160H620v160ZM180-180h160v-160H180v160Zm440 0h160v-160H620v160Z\"/>\n",
              "  </svg>\n",
              "    </button>\n",
              "\n",
              "  <style>\n",
              "    .colab-df-container {\n",
              "      display:flex;\n",
              "      gap: 12px;\n",
              "    }\n",
              "\n",
              "    .colab-df-convert {\n",
              "      background-color: #E8F0FE;\n",
              "      border: none;\n",
              "      border-radius: 50%;\n",
              "      cursor: pointer;\n",
              "      display: none;\n",
              "      fill: #1967D2;\n",
              "      height: 32px;\n",
              "      padding: 0 0 0 0;\n",
              "      width: 32px;\n",
              "    }\n",
              "\n",
              "    .colab-df-convert:hover {\n",
              "      background-color: #E2EBFA;\n",
              "      box-shadow: 0px 1px 2px rgba(60, 64, 67, 0.3), 0px 1px 3px 1px rgba(60, 64, 67, 0.15);\n",
              "      fill: #174EA6;\n",
              "    }\n",
              "\n",
              "    .colab-df-buttons div {\n",
              "      margin-bottom: 4px;\n",
              "    }\n",
              "\n",
              "    [theme=dark] .colab-df-convert {\n",
              "      background-color: #3B4455;\n",
              "      fill: #D2E3FC;\n",
              "    }\n",
              "\n",
              "    [theme=dark] .colab-df-convert:hover {\n",
              "      background-color: #434B5C;\n",
              "      box-shadow: 0px 1px 3px 1px rgba(0, 0, 0, 0.15);\n",
              "      filter: drop-shadow(0px 1px 2px rgba(0, 0, 0, 0.3));\n",
              "      fill: #FFFFFF;\n",
              "    }\n",
              "  </style>\n",
              "\n",
              "    <script>\n",
              "      const buttonEl =\n",
              "        document.querySelector('#df-60607f18-ccfc-47ea-8cc8-dbd020cc32eb button.colab-df-convert');\n",
              "      buttonEl.style.display =\n",
              "        google.colab.kernel.accessAllowed ? 'block' : 'none';\n",
              "\n",
              "      async function convertToInteractive(key) {\n",
              "        const element = document.querySelector('#df-60607f18-ccfc-47ea-8cc8-dbd020cc32eb');\n",
              "        const dataTable =\n",
              "          await google.colab.kernel.invokeFunction('convertToInteractive',\n",
              "                                                    [key], {});\n",
              "        if (!dataTable) return;\n",
              "\n",
              "        const docLinkHtml = 'Like what you see? Visit the ' +\n",
              "          '<a target=\"_blank\" href=https://colab.research.google.com/notebooks/data_table.ipynb>data table notebook</a>'\n",
              "          + ' to learn more about interactive tables.';\n",
              "        element.innerHTML = '';\n",
              "        dataTable['output_type'] = 'display_data';\n",
              "        await google.colab.output.renderOutput(dataTable, element);\n",
              "        const docLink = document.createElement('div');\n",
              "        docLink.innerHTML = docLinkHtml;\n",
              "        element.appendChild(docLink);\n",
              "      }\n",
              "    </script>\n",
              "  </div>\n",
              "\n",
              "\n",
              "<div id=\"df-7d83146d-8d43-4dd3-8ffb-8f3f155d24dd\">\n",
              "  <button class=\"colab-df-quickchart\" onclick=\"quickchart('df-7d83146d-8d43-4dd3-8ffb-8f3f155d24dd')\"\n",
              "            title=\"Suggest charts\"\n",
              "            style=\"display:none;\">\n",
              "\n",
              "<svg xmlns=\"http://www.w3.org/2000/svg\" height=\"24px\"viewBox=\"0 0 24 24\"\n",
              "     width=\"24px\">\n",
              "    <g>\n",
              "        <path d=\"M19 3H5c-1.1 0-2 .9-2 2v14c0 1.1.9 2 2 2h14c1.1 0 2-.9 2-2V5c0-1.1-.9-2-2-2zM9 17H7v-7h2v7zm4 0h-2V7h2v10zm4 0h-2v-4h2v4z\"/>\n",
              "    </g>\n",
              "</svg>\n",
              "  </button>\n",
              "\n",
              "<style>\n",
              "  .colab-df-quickchart {\n",
              "      --bg-color: #E8F0FE;\n",
              "      --fill-color: #1967D2;\n",
              "      --hover-bg-color: #E2EBFA;\n",
              "      --hover-fill-color: #174EA6;\n",
              "      --disabled-fill-color: #AAA;\n",
              "      --disabled-bg-color: #DDD;\n",
              "  }\n",
              "\n",
              "  [theme=dark] .colab-df-quickchart {\n",
              "      --bg-color: #3B4455;\n",
              "      --fill-color: #D2E3FC;\n",
              "      --hover-bg-color: #434B5C;\n",
              "      --hover-fill-color: #FFFFFF;\n",
              "      --disabled-bg-color: #3B4455;\n",
              "      --disabled-fill-color: #666;\n",
              "  }\n",
              "\n",
              "  .colab-df-quickchart {\n",
              "    background-color: var(--bg-color);\n",
              "    border: none;\n",
              "    border-radius: 50%;\n",
              "    cursor: pointer;\n",
              "    display: none;\n",
              "    fill: var(--fill-color);\n",
              "    height: 32px;\n",
              "    padding: 0;\n",
              "    width: 32px;\n",
              "  }\n",
              "\n",
              "  .colab-df-quickchart:hover {\n",
              "    background-color: var(--hover-bg-color);\n",
              "    box-shadow: 0 1px 2px rgba(60, 64, 67, 0.3), 0 1px 3px 1px rgba(60, 64, 67, 0.15);\n",
              "    fill: var(--button-hover-fill-color);\n",
              "  }\n",
              "\n",
              "  .colab-df-quickchart-complete:disabled,\n",
              "  .colab-df-quickchart-complete:disabled:hover {\n",
              "    background-color: var(--disabled-bg-color);\n",
              "    fill: var(--disabled-fill-color);\n",
              "    box-shadow: none;\n",
              "  }\n",
              "\n",
              "  .colab-df-spinner {\n",
              "    border: 2px solid var(--fill-color);\n",
              "    border-color: transparent;\n",
              "    border-bottom-color: var(--fill-color);\n",
              "    animation:\n",
              "      spin 1s steps(1) infinite;\n",
              "  }\n",
              "\n",
              "  @keyframes spin {\n",
              "    0% {\n",
              "      border-color: transparent;\n",
              "      border-bottom-color: var(--fill-color);\n",
              "      border-left-color: var(--fill-color);\n",
              "    }\n",
              "    20% {\n",
              "      border-color: transparent;\n",
              "      border-left-color: var(--fill-color);\n",
              "      border-top-color: var(--fill-color);\n",
              "    }\n",
              "    30% {\n",
              "      border-color: transparent;\n",
              "      border-left-color: var(--fill-color);\n",
              "      border-top-color: var(--fill-color);\n",
              "      border-right-color: var(--fill-color);\n",
              "    }\n",
              "    40% {\n",
              "      border-color: transparent;\n",
              "      border-right-color: var(--fill-color);\n",
              "      border-top-color: var(--fill-color);\n",
              "    }\n",
              "    60% {\n",
              "      border-color: transparent;\n",
              "      border-right-color: var(--fill-color);\n",
              "    }\n",
              "    80% {\n",
              "      border-color: transparent;\n",
              "      border-right-color: var(--fill-color);\n",
              "      border-bottom-color: var(--fill-color);\n",
              "    }\n",
              "    90% {\n",
              "      border-color: transparent;\n",
              "      border-bottom-color: var(--fill-color);\n",
              "    }\n",
              "  }\n",
              "</style>\n",
              "\n",
              "  <script>\n",
              "    async function quickchart(key) {\n",
              "      const quickchartButtonEl =\n",
              "        document.querySelector('#' + key + ' button');\n",
              "      quickchartButtonEl.disabled = true;  // To prevent multiple clicks.\n",
              "      quickchartButtonEl.classList.add('colab-df-spinner');\n",
              "      try {\n",
              "        const charts = await google.colab.kernel.invokeFunction(\n",
              "            'suggestCharts', [key], {});\n",
              "      } catch (error) {\n",
              "        console.error('Error during call to suggestCharts:', error);\n",
              "      }\n",
              "      quickchartButtonEl.classList.remove('colab-df-spinner');\n",
              "      quickchartButtonEl.classList.add('colab-df-quickchart-complete');\n",
              "    }\n",
              "    (() => {\n",
              "      let quickchartButtonEl =\n",
              "        document.querySelector('#df-7d83146d-8d43-4dd3-8ffb-8f3f155d24dd button');\n",
              "      quickchartButtonEl.style.display =\n",
              "        google.colab.kernel.accessAllowed ? 'block' : 'none';\n",
              "    })();\n",
              "  </script>\n",
              "</div>\n",
              "\n",
              "    </div>\n",
              "  </div>\n"
            ],
            "application/vnd.google.colaboratory.intrinsic+json": {
              "type": "dataframe",
              "variable_name": "df",
              "summary": "{\n  \"name\": \"df\",\n  \"rows\": 2711,\n  \"fields\": [\n    {\n      \"column\": \"From Email\",\n      \"properties\": {\n        \"dtype\": \"category\",\n        \"num_unique_values\": 618,\n        \"samples\": [\n          \"BookMyShow <no-reply@entertainment.bookmyshow.com>\",\n          \"campus.connect1@wipro.com\",\n          \"QuillBot <support@e-mail.quillbot.com>\"\n        ],\n        \"semantic_type\": \"\",\n        \"description\": \"\"\n      }\n    },\n    {\n      \"column\": \"To Email\",\n      \"properties\": {\n        \"dtype\": \"category\",\n        \"num_unique_values\": 50,\n        \"samples\": [\n          \"piyush118k@gmail.com\",\n          \"<sathviksamineni798@gmail.com>\",\n          \"<PCHANDU1310@gmail.com>\"\n        ],\n        \"semantic_type\": \"\",\n        \"description\": \"\"\n      }\n    },\n    {\n      \"column\": \"Mail Subject\",\n      \"properties\": {\n        \"dtype\": \"string\",\n        \"num_unique_values\": 1663,\n        \"samples\": [\n          \"Consistent Hashing Explained\",\n          \"WARNING! Only 24 Hours Left....\",\n          \"Funds / Securities Balance\"\n        ],\n        \"semantic_type\": \"\",\n        \"description\": \"\"\n      }\n    },\n    {\n      \"column\": \"Email Content\",\n      \"properties\": {\n        \"dtype\": \"string\",\n        \"num_unique_values\": 1930,\n        \"samples\": [\n          \"Your application was sent to CLPS Global\\n\\nSoftware Engineer\\nCLPS Global\\nGeorgia, United States\\nView job: https://www.linkedin.com/comm/jobs/view/4162219515/?trackingId=NyKN9kzoTtis5qYrPwlMJQ%3D%3D&refId=49JPs49BRJ6VSpGUKwu0qQ%3D%3D&lipi=urn%3Ali%3Apage%3Aemail_email_application_confirmation_with_nba_01%3BNirdNKXXTgSy36VXQTw3WQ%3D%3D&midToken=AQHZ3M32Q-Dghg&midSig=0bM1-7vSStDHE1&trk=eml-email_application_confirmation_with_nba_01-job_card-0-view_job&trkEmail=eml-email_application_confirmation_with_nba_01-job_card-0-view_job-null-evo34u~m7jvmrey~wv-null-null&eid=evo34u-m7jvmrey-wv&otpToken=MWEwYzE3ZTcxMzI2Y2FjMmIyMjQwNGVkNDIxZWUzYjE4ZWNlZDc0MjkwYTk4YjYxNzljNjA0NjY0ODU5NWZmYmY1ZDdkZjgwN2JiNmI5ZTE1N2ZhZmZjOWIzZjFlNmRmMjVkMjhjODNmYTAyYThkM2VmNmQ4MywxLDE%3D\\n\\n---------------------------------------------------------\\n  \\nApplied on February 25, 2025----------------------------------------------------------------\\n        Now, take these next steps for more success\\n\\n\\n\\nView similar jobs you may be interested in\\n            \\nJava Spring Boot Developer\\nZealTech\\nMountain View, CA\\nApply with resume & profile\\nView job: https://www.linkedin.com/comm/jobs/view/4163797612/?trackingId=vwkkLtItS%2BKhK4UAU2%2FRTA%3D%3D&refId=xwsZDD3bS5mxWmIPXxrzaQ%3D%3D&lipi=urn%3Ali%3Apage%3Aemail_email_application_confirmation_with_nba_01%3BNirdNKXXTgSy36VXQTw3WQ%3D%3D&midToken=AQHZ3M32Q-Dghg&midSig=0bM1-7vSStDHE1&trk=eml-email_application_confirmation_with_nba_01-job_card-0-view_job&trkEmail=eml-email_application_confirmation_with_nba_01-job_card-0-view_job-null-evo34u~m7jvmrey~wv-null-null&eid=evo34u-m7jvmrey-wv&otpToken=MWEwYzE3ZTcxMzI2Y2FjMmIyMjQwNGVkNDIxZWUzYjE4ZWNlZDc0MjkwYTk4YjYxNzljNjA0NjY0ODU5NWZmYmY1ZDdkZjgwN2JiNmI5ZTE1N2ZhZmZjOWIzZjFlNmRmMjVkMjhjODNmYTAyYThkM2VmNmQ4MywxLDE%3D\\n\\n---------------------------------------------------------\\n  \\n            \\nJava Software Engineer\\nBeaconFire Inc.\\nNew Jersey, United States\\nApply with resume & profile\\nView job: https://www.linkedin.com/comm/jobs/view/4161431999/?trackingId=IfGEIQUdRoupp1ezKHc6Jg%3D%3D&refId=iLQ5b%2FrvSZmwktEXm3VGxw%3D%3D&lipi=urn%3Ali%3Apage%3Aemail_email_application_confirmation_with_nba_01%3BNirdNKXXTgSy36VXQTw3WQ%3D%3D&midToken=AQHZ3M32Q-Dghg&midSig=0bM1-7vSStDHE1&trk=eml-email_application_confirmation_with_nba_01-job_card-0-view_job&trkEmail=eml-email_application_confirmation_with_nba_01-job_card-0-view_job-null-evo34u~m7jvmrey~wv-null-null&eid=evo34u-m7jvmrey-wv&otpToken=MWEwYzE3ZTcxMzI2Y2FjMmIyMjQwNGVkNDIxZWUzYjE4ZWNlZDc0MjkwYTk4YjYxNzljNjA0NjY0ODU5NWZmYmY1ZDdkZjgwN2JiNmI5ZTE1N2ZhZmZjOWIzZjFlNmRmMjVkMjhjODNmYTAyYThkM2VmNmQ4MywxLDE%3D\\n\\n---------------------------------------------------------\\n  \\n            \\nJava Developer\\nLensa\\nBerkeley Heights, NJ\\nView job: https://www.linkedin.com/comm/jobs/view/4161931276/?trackingId=9Ev7bAf6S8maXb8dRTvdTg%3D%3D&refId=PNkLZ0ATSfCy6nfQek3ZaA%3D%3D&lipi=urn%3Ali%3Apage%3Aemail_email_application_confirmation_with_nba_01%3BNirdNKXXTgSy36VXQTw3WQ%3D%3D&midToken=AQHZ3M32Q-Dghg&midSig=0bM1-7vSStDHE1&trk=eml-email_application_confirmation_with_nba_01-job_card-0-view_job&trkEmail=eml-email_application_confirmation_with_nba_01-job_card-0-view_job-null-evo34u~m7jvmrey~wv-null-null&eid=evo34u-m7jvmrey-wv&otpToken=MWEwYzE3ZTcxMzI2Y2FjMmIyMjQwNGVkNDIxZWUzYjE4ZWNlZDc0MjkwYTk4YjYxNzljNjA0NjY0ODU5NWZmYmY1ZDdkZjgwN2JiNmI5ZTE1N2ZhZmZjOWIzZjFlNmRmMjVkMjhjODNmYTAyYThkM2VmNmQ4MywxLDE%3D\\n\\n---------------------------------------------------------\\n  \\n\\n      \\n\\n----------------------------------------\\n\\nThis email was intended for Chandu Pentela (Senior Java Full Stack Developer | Expertise in Java | Spring | Hibernate | Angular | ReactJS | Bootstrap | HTML | CSS | JavaScript | JQuery | Oracle | Actively looking for C2C or C2)\\nLearn why we included this: https://www.linkedin.com/help/linkedin/answer/4788?lang=en&lipi=urn%3Ali%3Apage%3Aemail_email_application_confirmation_with_nba_01%3BNirdNKXXTgSy36VXQTw3WQ%3D%3D&midToken=AQHZ3M32Q-Dghg&midSig=0bM1-7vSStDHE1&trk=eml-email_application_confirmation_with_nba_01-SecurityHelp-0-textfooterglimmer&trkEmail=eml-email_application_confirmation_with_nba_01-SecurityHelp-0-textfooterglimmer-null-evo34u~m7jvmrey~wv-null-null&eid=evo34u-m7jvmrey-wv&otpToken=MWEwYzE3ZTcxMzI2Y2FjMmIyMjQwNGVkNDIxZWUzYjE4ZWNlZDc0MjkwYTk4YjYxNzljNjA0NjY0ODU5NWZmYmY1ZDdkZjgwN2JiNmI5ZTE1N2ZhZmZjOWIzZjFlNmRmMjVkMjhjODNmYTAyYThkM2VmNmQ4MywxLDE%3D\\nYou are receiving LinkedIn notification emails.\\n\\nUnsubscribe: https://www.linkedin.com/comm/psettings/email-unsubscribe?lipi=urn%3Ali%3Apage%3Aemail_email_application_confirmation_with_nba_01%3BNirdNKXXTgSy36VXQTw3WQ%3D%3D&midToken=AQHZ3M32Q-Dghg&midSig=0bM1-7vSStDHE1&trk=eml-email_application_confirmation_with_nba_01-unsubscribe-0-textfooterglimmer&trkEmail=eml-email_application_confirmation_with_nba_01-unsubscribe-0-textfooterglimmer-null-evo34u~m7jvmrey~wv-null-null&eid=evo34u-m7jvmrey-wv&loid=AQECjJKMTR9SWQAAAZU698-fD3xnfvCj0K45G86qsylhg88WAlRO6R-qfiMmT62tI1b13burICsyiTPO3Lmoe2VDtGDQN1xM76SRqJjvHHe1GwmZ5tSP\\nHelp: https://www.linkedin.com/help/linkedin/answer/67?lang=en&lipi=urn%3Ali%3Apage%3Aemail_email_application_confirmation_with_nba_01%3BNirdNKXXTgSy36VXQTw3WQ%3D%3D&midToken=AQHZ3M32Q-Dghg&midSig=0bM1-7vSStDHE1&trk=eml-email_application_confirmation_with_nba_01-help-0-textfooterglimmer&trkEmail=eml-email_application_confirmation_with_nba_01-help-0-textfooterglimmer-null-evo34u~m7jvmrey~wv-null-null&eid=evo34u-m7jvmrey-wv&otpToken=MWEwYzE3ZTcxMzI2Y2FjMmIyMjQwNGVkNDIxZWUzYjE4ZWNlZDc0MjkwYTk4YjYxNzljNjA0NjY0ODU5NWZmYmY1ZDdkZjgwN2JiNmI5ZTE1N2ZhZmZjOWIzZjFlNmRmMjVkMjhjODNmYTAyYThkM2VmNmQ4MywxLDE%3D\\n\\n\\u00a9 2025 LinkedIn Corporation, 1zwnj000 West Maude Avenue, Sunnyvale, CA 94085.\\nLinkedIn and the LinkedIn logo are registered trademarks of LinkedIn.\",\n          \" HDFC-Tax-Email-Wallet-new \\nSmart health decisions start with \\u20b975,000 in tax savings.\\n<https://lcs.hdfcbk.io/EdmTrack/UrlRedirect?url=MWYzZGZkYTEtOWIxMC00NThhLTkxZTgtNGU1YWJkYzg5ZmJh&refr=IU2ATNzcDZihDN4ADZfZ2M2E2XzkTY08VMyEjNfBjMyUGNiBDM5kUV9IU&bid=2&curl=ZWNiZmIxZWQtZGQ0OS00NzIzLTgwOTktM2I0ZTc1Y2M0MTIz&sch=YTNhMjFmZjItNDk5Ny00ZGVhLThmNTUtMDZiNTVlODQxNGYz&rid=GC2E6D&pid=GC2E6D&IsAdhoc=1&slid=369234&blid=001> \\n\\n\\nNiva Bupa Health Insurance Company Limited (formerly known as Max Bupa \\nHealth Insurance Company Limited) (IRDAI Registration No. 145). 'Bupa' and \\n'HEARTBEAT' logo are registered trademarks of their respective owners and \\nare being used by Niva Bupa Health Insurance Company Limited under license. \\nRegistered Office Address: C-98, First Floor, Lajpat Nagar, Part 1, New \\nDelhi-110024, Customer Helpline No.: 1860-500-8888. Fax: +91 11 41743397. \\nWebsite: www.nivabupa.com. CIN: U66000DL2008PLC182918. For more details on \\nrisk factors, terms and conditions, please read the sales brochure \\ncarefully before concluding the sale. 1Tax benefits are subject to changes \\nin Tax Laws. Please consult your tax advisor before claiming tax benefits \\nas per income tax act, 1961. #Numbers of network hospitals shown is an \\napproximate figure and is subject to change without prior notice, please \\nvisit our website to access the latest and updated list of network \\nhospitals. **Niva Bupa processes pre-auth within 30 min for all active \\npolicies, subject to receiving all documents and information(s) up to Niva \\nBupa\\u2019s satisfaction. The above commitment doesn\\u2019t include pre-authorization \\nsettlement at the time of discharge or system outage. ***Since Inception \\n(2010-Till Date). Product Name: Aspire. || Product UIN:NBHHLIP24129V012324. \\nHDFC Bank Ltd (CA0010) is a registered corporate agent for Niva Bupa Health \\nInsurance Company Limited & insurance products are underwritten by Niva \\nBupa Health Insurance Company Limited. HDFC Bank Ltd does not underwrite \\nthe risk or act as insurer. The contract of insurance is between the \\nInsurance Company and the insured only, and not between HDFC Bank and the \\ninsured. HDFC Bank is not responsible or liable for performance of any \\nobligations under the contract of insurance. Insurance is sold as a \\nstand-alone product and not linked to any of the Banking products. \\nParticipation in Insurance is purely on a voluntary basis. Purchase of \\nInsurance is not a pre-condition of availing any of the banking products / \\nservices. HDFC Bank Ltd is not responsible or liable for any omission or \\ncommission in the information shared. UIN: NB/EM/CA/2024-25/854.\\n\",\n          \"Zelle\\u00ae payment of $50.00 to Nand Patel has been sent\\nSent from account\\tending in 7050\\nTo\\t276-229-2123\\nView your balance\\nConfirmation\\tnt46w266p\\nIf you didn't make this payment, contact us\\nBank of America together with Zelle logo\\nZelle\\u00ae and the Zelle\\u00ae related marks are wholly owned by Early Warning Services, LLC, and are used herein under license. Bank of America and the Bank of America logo are registered trademarks of Bank of America Corporation.\\nWe'll never ask for your personal information such as SSN or ATM PIN in email messages. If you get an email that looks suspicious or you are not the intended recipient of this email, don't click on any links. Instead, forward to abuse@bankofamerica.com then delete it.\\nPlease don't reply to this automatically generated service email.\\nPrivacy Notice\\tEqual Housing Lender \\nBank of America, N.A. Member FDIC.\\n\\u00a9 2025 Bank of America Corporation.\"\n        ],\n        \"semantic_type\": \"\",\n        \"description\": \"\"\n      }\n    },\n    {\n      \"column\": \"Category\",\n      \"properties\": {\n        \"dtype\": \"category\",\n        \"num_unique_values\": 11,\n        \"samples\": [\n          \"Subscription Renewals\",\n          \"-\",\n          \"Finance\"\n        ],\n        \"semantic_type\": \"\",\n        \"description\": \"\"\n      }\n    },\n    {\n      \"column\": \"CC\",\n      \"properties\": {\n        \"dtype\": \"category\",\n        \"num_unique_values\": 15,\n        \"samples\": [\n          \"accounts@fitness.com\",\n          \"info@community.org\",\n          \"-\"\n        ],\n        \"semantic_type\": \"\",\n        \"description\": \"\"\n      }\n    },\n    {\n      \"column\": \"Last Received Date\",\n      \"properties\": {\n        \"dtype\": \"category\",\n        \"num_unique_values\": 173,\n        \"samples\": [\n          \"2023-03-30 00:00:00\",\n          \"2024-05-07 00:00:00\",\n          \"30-12-2024\"\n        ],\n        \"semantic_type\": \"\",\n        \"description\": \"\"\n      }\n    },\n    {\n      \"column\": \"Action/Response/Arival Awaited Date\",\n      \"properties\": {\n        \"dtype\": \"category\",\n        \"num_unique_values\": 31,\n        \"samples\": [\n          \"2023-09-20 00:00:00\",\n          \"November 11th 2024\",\n          \"2025-02-04 00:00:00\"\n        ],\n        \"semantic_type\": \"\",\n        \"description\": \"\"\n      }\n    },\n    {\n      \"column\": \"Coupon\",\n      \"properties\": {\n        \"dtype\": \"category\",\n        \"num_unique_values\": 20,\n        \"samples\": [\n          \"-\",\n          \"DINE10\",\n          \"HEALTH15\"\n        ],\n        \"semantic_type\": \"\",\n        \"description\": \"\"\n      }\n    },\n    {\n      \"column\": \"Mail Sector\",\n      \"properties\": {\n        \"dtype\": \"category\",\n        \"num_unique_values\": 79,\n        \"samples\": [\n          \"Gym Fitness Outfit Collection\",\n          \"-\",\n          \"Order Status Confirmation\"\n        ],\n        \"semantic_type\": \"\",\n        \"description\": \"\"\n      }\n    },\n    {\n      \"column\": \"Organization\",\n      \"properties\": {\n        \"dtype\": \"category\",\n        \"num_unique_values\": 11,\n        \"samples\": [\n          \"ActiveLife Gym\",\n          \"-\",\n          \"Innovate Tech\"\n        ],\n        \"semantic_type\": \"\",\n        \"description\": \"\"\n      }\n    }\n  ]\n}"
            }
          },
          "metadata": {},
          "execution_count": 17
        }
      ]
    },
    {
      "cell_type": "code",
      "source": [
        "print(\"Missing Values:\\n\", df.isnull().sum())"
      ],
      "metadata": {
        "colab": {
          "base_uri": "https://localhost:8080/"
        },
        "id": "mvVCfW4w40z3",
        "outputId": "04c60835-e3c8-4bb4-ee69-81998fff5e33"
      },
      "execution_count": 18,
      "outputs": [
        {
          "output_type": "stream",
          "name": "stdout",
          "text": [
            "Missing Values:\n",
            " From Email                               0\n",
            "To Email                               105\n",
            "Mail Subject                             7\n",
            "Email Content                            0\n",
            "Category                                 0\n",
            "CC                                       0\n",
            "Last Received Date                       0\n",
            "Action/Response/Arival Awaited Date      0\n",
            "Coupon                                   0\n",
            "Mail Sector                              0\n",
            "Organization                             0\n",
            "dtype: int64\n"
          ]
        }
      ]
    },
    {
      "cell_type": "code",
      "source": [
        "df['Mail Subject'].fillna(\"No Subject\", inplace=True)"
      ],
      "metadata": {
        "colab": {
          "base_uri": "https://localhost:8080/"
        },
        "id": "r9bL_Pyk5eyP",
        "outputId": "7fb37371-c9ee-45b2-c302-60baade12ca5"
      },
      "execution_count": 19,
      "outputs": [
        {
          "output_type": "stream",
          "name": "stderr",
          "text": [
            "<ipython-input-19-f23939587592>:1: FutureWarning: A value is trying to be set on a copy of a DataFrame or Series through chained assignment using an inplace method.\n",
            "The behavior will change in pandas 3.0. This inplace method will never work because the intermediate object on which we are setting values always behaves as a copy.\n",
            "\n",
            "For example, when doing 'df[col].method(value, inplace=True)', try using 'df.method({col: value}, inplace=True)' or df[col] = df[col].method(value) instead, to perform the operation inplace on the original object.\n",
            "\n",
            "\n",
            "  df['Mail Subject'].fillna(\"No Subject\", inplace=True)\n"
          ]
        }
      ]
    },
    {
      "cell_type": "code",
      "source": [
        "df_cleaned = df.dropna(subset=['To Email'])"
      ],
      "metadata": {
        "id": "I3k6oCvd5gkP"
      },
      "execution_count": 20,
      "outputs": []
    },
    {
      "cell_type": "code",
      "source": [
        "print(\"Missing Values:\\n\", df.isnull().sum())"
      ],
      "metadata": {
        "colab": {
          "base_uri": "https://localhost:8080/"
        },
        "id": "kQVqd8-h5noc",
        "outputId": "dace4795-2f4d-4154-9aee-cbeb1a1cac86"
      },
      "execution_count": 21,
      "outputs": [
        {
          "output_type": "stream",
          "name": "stdout",
          "text": [
            "Missing Values:\n",
            " From Email                               0\n",
            "To Email                               105\n",
            "Mail Subject                             0\n",
            "Email Content                            0\n",
            "Category                                 0\n",
            "CC                                       0\n",
            "Last Received Date                       0\n",
            "Action/Response/Arival Awaited Date      0\n",
            "Coupon                                   0\n",
            "Mail Sector                              0\n",
            "Organization                             0\n",
            "dtype: int64\n"
          ]
        }
      ]
    },
    {
      "cell_type": "code",
      "source": [
        "df['To Email'].fillna(\"unknown@example.com\", inplace=True)"
      ],
      "metadata": {
        "colab": {
          "base_uri": "https://localhost:8080/"
        },
        "id": "cpBf81Xv6oYc",
        "outputId": "8afce63f-6e4a-44a8-a560-071ff29eee8b"
      },
      "execution_count": 22,
      "outputs": [
        {
          "output_type": "stream",
          "name": "stderr",
          "text": [
            "<ipython-input-22-5d0c346ef371>:1: FutureWarning: A value is trying to be set on a copy of a DataFrame or Series through chained assignment using an inplace method.\n",
            "The behavior will change in pandas 3.0. This inplace method will never work because the intermediate object on which we are setting values always behaves as a copy.\n",
            "\n",
            "For example, when doing 'df[col].method(value, inplace=True)', try using 'df.method({col: value}, inplace=True)' or df[col] = df[col].method(value) instead, to perform the operation inplace on the original object.\n",
            "\n",
            "\n",
            "  df['To Email'].fillna(\"unknown@example.com\", inplace=True)\n"
          ]
        }
      ]
    },
    {
      "cell_type": "code",
      "source": [
        "print(\"Missing Values:\\n\", df.isnull().sum())"
      ],
      "metadata": {
        "colab": {
          "base_uri": "https://localhost:8080/"
        },
        "id": "hxZllzRk6uxR",
        "outputId": "4ccf8994-77a0-48df-f4fa-9bb3fca6e580"
      },
      "execution_count": 23,
      "outputs": [
        {
          "output_type": "stream",
          "name": "stdout",
          "text": [
            "Missing Values:\n",
            " From Email                             0\n",
            "To Email                               0\n",
            "Mail Subject                           0\n",
            "Email Content                          0\n",
            "Category                               0\n",
            "CC                                     0\n",
            "Last Received Date                     0\n",
            "Action/Response/Arival Awaited Date    0\n",
            "Coupon                                 0\n",
            "Mail Sector                            0\n",
            "Organization                           0\n",
            "dtype: int64\n"
          ]
        }
      ]
    },
    {
      "cell_type": "code",
      "source": [
        "cleaned_file_path = \"/content/Cleaned Smart Email Dataset.csv\"\n",
        "df.to_csv(cleaned_file_path, index=False)"
      ],
      "metadata": {
        "id": "tLWUlHoH6-XI"
      },
      "execution_count": 26,
      "outputs": []
    }
  ]
}