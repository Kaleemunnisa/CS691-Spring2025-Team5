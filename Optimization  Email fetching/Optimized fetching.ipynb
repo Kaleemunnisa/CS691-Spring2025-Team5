{
  "nbformat": 4,
  "nbformat_minor": 0,
  "metadata": {
    "colab": {
      "provenance": []
    },
    "kernelspec": {
      "name": "python3",
      "display_name": "Python 3"
    },
    "language_info": {
      "name": "python"
    }
  },
  "cells": [
    {
      "cell_type": "code",
      "execution_count": 4,
      "metadata": {
        "colab": {
          "base_uri": "https://localhost:8080/"
        },
        "id": "S2rP0MjF_1iF",
        "outputId": "0e63ed83-fc7d-4244-8d2b-7fa2ce6869d3"
      },
      "outputs": [
        {
          "output_type": "stream",
          "name": "stderr",
          "text": [
            "<ipython-input-4-0da84f8b445c>:11: UserWarning: Could not infer format, so each element will be parsed individually, falling back to `dateutil`. To ensure parsing is consistent and as-expected, please specify a format.\n",
            "  df['Action/Response/Arival Awaited Date'] = pd.to_datetime(df['Action/Response/Arival Awaited Date'], errors='coerce')\n"
          ]
        },
        {
          "output_type": "stream",
          "name": "stdout",
          "text": [
            "Optimized email fetching strategy saved to: /mnt/data/Optimized_Email_Fetching.csv\n"
          ]
        }
      ],
      "source": [
        "import os\n",
        "import pandas as pd\n",
        "from collections import Counter\n",
        "\n",
        "# Load the dataset\n",
        "file_path = \"/content/Cleaned Smart Email Dataset.csv\"\n",
        "df = pd.read_csv(file_path)\n",
        "\n",
        "# Convert date columns to datetime format\n",
        "df['Last Received Date'] = pd.to_datetime(df['Last Received Date'], errors='coerce')\n",
        "df['Action/Response/Arival Awaited Date'] = pd.to_datetime(df['Action/Response/Arival Awaited Date'], errors='coerce')\n",
        "\n",
        "# Classify email importance based on category and response awaited\n",
        "def classify_email(row):\n",
        "    if pd.notna(row['Action/Response/Arival Awaited Date']):\n",
        "        return 'High Priority'\n",
        "    elif isinstance(row['Category'], str) and row['Category'].lower() in ['work', 'business', 'urgent']:\n",
        "        return 'High Priority'\n",
        "    elif isinstance(row['Category'], str) and row['Category'].lower() in ['promotions', 'newsletters', 'spam']:\n",
        "        return 'Low Priority'\n",
        "    return 'Medium Priority'\n",
        "\n",
        "df['Priority'] = df.apply(classify_email, axis=1)\n",
        "\n",
        "# Group emails by sender domain for batch fetching\n",
        "df['Sender Domain'] = df['From Email'].apply(lambda x: x.split('@')[-1] if isinstance(x, str) and '@' in x else x)\n",
        "\n",
        "domain_counts = Counter(df['Sender Domain'])\n",
        "\n",
        "def fetch_frequency(priority):\n",
        "    if priority == 'High Priority':\n",
        "        return 'Every 5 minutes'\n",
        "    elif priority == 'Medium Priority':\n",
        "        return 'Every 30 minutes'\n",
        "    return 'Every 2 hours'\n",
        "\n",
        "df['Fetch Frequency'] = df['Priority'].apply(fetch_frequency)\n",
        "\n",
        "# Ensure the directory exists\n",
        "optimized_directory = \"/mnt/data\"\n",
        "os.makedirs(optimized_directory, exist_ok=True)\n",
        "\n",
        "# Define the file path\n",
        "optimized_file = os.path.join(optimized_directory, \"Optimized_Email_Fetching.csv\")\n",
        "\n",
        "# Save optimized email fetching strategy\n",
        "df.to_csv(optimized_file, index=False)\n",
        "\n",
        "print(f\"Optimized email fetching strategy saved to: {optimized_file}\")\n"
      ]
    },
    {
      "cell_type": "code",
      "source": [
        "from google.colab import files\n",
        "files.download('/mnt/data/Optimized_Email_Fetching.csv')\n"
      ],
      "metadata": {
        "colab": {
          "base_uri": "https://localhost:8080/",
          "height": 17
        },
        "id": "3jK6vq8cF9hi",
        "outputId": "25628b60-6593-4b9e-8a2b-5a760b263aa4"
      },
      "execution_count": 6,
      "outputs": [
        {
          "output_type": "display_data",
          "data": {
            "text/plain": [
              "<IPython.core.display.Javascript object>"
            ],
            "application/javascript": [
              "\n",
              "    async function download(id, filename, size) {\n",
              "      if (!google.colab.kernel.accessAllowed) {\n",
              "        return;\n",
              "      }\n",
              "      const div = document.createElement('div');\n",
              "      const label = document.createElement('label');\n",
              "      label.textContent = `Downloading \"${filename}\": `;\n",
              "      div.appendChild(label);\n",
              "      const progress = document.createElement('progress');\n",
              "      progress.max = size;\n",
              "      div.appendChild(progress);\n",
              "      document.body.appendChild(div);\n",
              "\n",
              "      const buffers = [];\n",
              "      let downloaded = 0;\n",
              "\n",
              "      const channel = await google.colab.kernel.comms.open(id);\n",
              "      // Send a message to notify the kernel that we're ready.\n",
              "      channel.send({})\n",
              "\n",
              "      for await (const message of channel.messages) {\n",
              "        // Send a message to notify the kernel that we're ready.\n",
              "        channel.send({})\n",
              "        if (message.buffers) {\n",
              "          for (const buffer of message.buffers) {\n",
              "            buffers.push(buffer);\n",
              "            downloaded += buffer.byteLength;\n",
              "            progress.value = downloaded;\n",
              "          }\n",
              "        }\n",
              "      }\n",
              "      const blob = new Blob(buffers, {type: 'application/binary'});\n",
              "      const a = document.createElement('a');\n",
              "      a.href = window.URL.createObjectURL(blob);\n",
              "      a.download = filename;\n",
              "      div.appendChild(a);\n",
              "      a.click();\n",
              "      div.remove();\n",
              "    }\n",
              "  "
            ]
          },
          "metadata": {}
        },
        {
          "output_type": "display_data",
          "data": {
            "text/plain": [
              "<IPython.core.display.Javascript object>"
            ],
            "application/javascript": [
              "download(\"download_80798ecd-4fe5-41b4-a703-a7dcf83ca38c\", \"Optimized_Email_Fetching.csv\", 15515627)"
            ]
          },
          "metadata": {}
        }
      ]
    }
  ]
}